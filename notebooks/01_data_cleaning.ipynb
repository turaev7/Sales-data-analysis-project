{
 "cells": [
  {
   "cell_type": "code",
   "execution_count": 2,
   "id": "b3a8b357",
   "metadata": {},
   "outputs": [
    {
     "name": "stdout",
     "output_type": "stream",
     "text": [
      "         Date     Product  Quantity   Price    Sales\n",
      "0  2024-05-15      Tablet         4  955.40  3821.60\n",
      "1  2024-05-14      Tablet         1  679.94   679.94\n",
      "2  2024-02-11  Headphones         1  472.58   472.58\n",
      "3  2024-04-03      Tablet         2  711.49  1422.98\n",
      "4  2024-04-27      Tablet         3  777.12  2331.36\n",
      "Date        0\n",
      "Product     0\n",
      "Quantity    0\n",
      "Price       0\n",
      "Sales       0\n",
      "dtype: int64\n",
      "Data cleaning completed and saved.\n"
     ]
    },
    {
     "name": "stderr",
     "output_type": "stream",
     "text": [
      "C:\\Users\\durbe\\AppData\\Local\\Temp\\ipykernel_15948\\2778414329.py:17: FutureWarning: A value is trying to be set on a copy of a DataFrame or Series through chained assignment using an inplace method.\n",
      "The behavior will change in pandas 3.0. This inplace method will never work because the intermediate object on which we are setting values always behaves as a copy.\n",
      "\n",
      "For example, when doing 'df[col].method(value, inplace=True)', try using 'df.method({col: value}, inplace=True)' or df[col] = df[col].method(value) instead, to perform the operation inplace on the original object.\n",
      "\n",
      "\n",
      "  df['Sales'].fillna(0, inplace=True)\n"
     ]
    }
   ],
   "source": [
    "# 1. Import libraries\n",
    "import pandas as pd\n",
    "\n",
    "# 2. Load dataset\n",
    "df = pd.read_csv(\"../data/raw/sales_data.csv\")\n",
    "\n",
    "#the name was wrong so I am changing it\n",
    "df.rename(columns={\"Total\": \"Sales\"}, inplace=True)\n",
    "\n",
    "# 3. Preview the data\n",
    "print(df.head())\n",
    "\n",
    "# 4. Check for missing values\n",
    "print(df.isnull().sum())\n",
    "\n",
    "# 5. Fill missing values (example)\n",
    "df['Sales'].fillna(0, inplace=True)\n",
    "\n",
    "# 6. Convert Date column to datetime\n",
    "df['Date'] = pd.to_datetime(df['Date'])\n",
    "\n",
    "# 7. Save cleaned data\n",
    "df.to_csv(\"../data/processed/sales_data_clean.csv\", index=False)\n",
    "print(\"Data cleaning completed and saved.\")\n"
   ]
  }
 ],
 "metadata": {
  "kernelspec": {
   "display_name": "Python 3",
   "language": "python",
   "name": "python3"
  },
  "language_info": {
   "codemirror_mode": {
    "name": "ipython",
    "version": 3
   },
   "file_extension": ".py",
   "mimetype": "text/x-python",
   "name": "python",
   "nbconvert_exporter": "python",
   "pygments_lexer": "ipython3",
   "version": "3.13.1"
  }
 },
 "nbformat": 4,
 "nbformat_minor": 5
}
