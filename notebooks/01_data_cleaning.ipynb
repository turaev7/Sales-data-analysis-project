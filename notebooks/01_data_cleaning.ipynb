{
 "cells": [
  {
   "cell_type": "code",
   "execution_count": null,
   "id": "b3a8b357",
   "metadata": {},
   "outputs": [],
   "source": [
    "# 1. Import libraries\n",
    "import pandas as pd\n",
    "\n",
    "# 2. Load dataset\n",
    "df = pd.read_csv(\"../data/raw/sales_data.csv\")\n",
    "\n",
    "# 3. Preview the data\n",
    "print(df.head())\n",
    "\n",
    "# 4. Check for missing values\n",
    "print(df.isnull().sum())\n",
    "\n",
    "# 5. Fill missing values (example)\n",
    "df['Sales'].fillna(0, inplace=True)\n",
    "\n",
    "# 6. Convert Date column to datetime\n",
    "df['Date'] = pd.to_datetime(df['Date'])\n",
    "\n",
    "# 7. Save cleaned data\n",
    "df.to_csv(\"../data/processed/sales_data_clean.csv\", index=False)\n",
    "print(\"Data cleaning completed and saved.\")\n"
   ]
  }
 ],
 "metadata": {
  "language_info": {
   "name": "python"
  }
 },
 "nbformat": 4,
 "nbformat_minor": 5
}
